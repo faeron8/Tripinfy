{
 "cells": [
  {
   "cell_type": "code",
   "execution_count": 1,
   "id": "9e581840-79a1-4879-b694-5feb410ce667",
   "metadata": {},
   "outputs": [
    {
     "name": "stderr",
     "output_type": "stream",
     "text": [
      "[nltk_data] Downloading package punkt to /home/faeron/nltk_data...\n",
      "[nltk_data]   Package punkt is already up-to-date!\n"
     ]
    }
   ],
   "source": [
    "import pandas as pd\n",
    "import numpy as np\n",
    "import matplotlib.pyplot as plt\n",
    "import seaborn as sns\n",
    "\n",
    "import requests\n",
    "\n",
    "import nltk\n",
    "nltk.download('punkt')\n",
    "from nltk.tokenize import word_tokenize\n",
    "from collections import Counter\n",
    "\n",
    "import sklearn\n",
    "from sklearn.feature_extraction.text import TfidfVectorizer\n",
    "from sklearn.metrics.pairwise import cosine_similarity\n",
    "from sklearn.linear_model import LinearRegression\n",
    "from sklearn.model_selection import train_test_split\n",
    "from sklearn.metrics import mean_squared_error, r2_score\n",
    "from sklearn.preprocessing import StandardScaler\n",
    "from sklearn.model_selection import cross_val_score\n",
    "\n",
    "import warnings\n",
    "warnings.filterwarnings(\"ignore\")"
   ]
  },
  {
   "cell_type": "markdown",
   "id": "8c1e1c41-9875-4e14-af9a-d5af407c6781",
   "metadata": {},
   "source": [
    "# Анализ на първа база данни"
   ]
  },
  {
   "cell_type": "code",
   "execution_count": 2,
   "id": "216dd114-b53d-4012-9d48-8be467a611ba",
   "metadata": {},
   "outputs": [],
   "source": [
    "users = pd.read_csv(\"data/users.csv\")"
   ]
  },
  {
   "cell_type": "code",
   "execution_count": 3,
   "id": "2386db65-2eef-4727-ade1-67c5c71040bb",
   "metadata": {},
   "outputs": [],
   "source": [
    "users_cols_to_drop = [\n",
    "    \"FacebookId\", \"PictureId\", \"FacebookProfilePageLink\", \"FacebookUserName\", \"AdditionalInfo\",\n",
    "    \"PhoneNumber\", \"IsAdmin\", \"DelayRateRequestDate\", \"IsModerator\", \"IsCustomFBLink\"\n",
    "]"
   ]
  },
  {
   "cell_type": "code",
   "execution_count": 4,
   "id": "4d2bec2d-c64e-45f0-a8d5-4795670b5be5",
   "metadata": {},
   "outputs": [],
   "source": [
    "users = users.drop(columns = users_cols_to_drop)"
   ]
  },
  {
   "cell_type": "code",
   "execution_count": 5,
   "id": "c904c064-5176-4bfb-946f-b7c5fd066a03",
   "metadata": {},
   "outputs": [],
   "source": [
    "users.LastLoggedIn = users.LastLoggedIn.astype(\"str\")\n",
    "users.BirthDate = users.BirthDate.astype(\"str\")"
   ]
  },
  {
   "cell_type": "code",
   "execution_count": 6,
   "id": "f03de8f0-366f-4a13-ad72-524c76dfa8f2",
   "metadata": {},
   "outputs": [],
   "source": [
    "lambda_cut = lambda x: x[:4]\n",
    "\n",
    "users.Created = users.Created.apply(lambda_cut)\n",
    "users.BirthDate = users.BirthDate.apply(lambda_cut)\n",
    "users.LastLoggedIn = users.LastLoggedIn.apply(lambda_cut)\n",
    "users.LastModified = users.LastModified.apply(lambda_cut)"
   ]
  },
  {
   "cell_type": "code",
   "execution_count": 7,
   "id": "7e4ac305-03ce-4e56-ad18-e680fa0774c0",
   "metadata": {},
   "outputs": [],
   "source": [
    "users[['BirthDate', 'Created', 'LastLoggedIn', 'Gender']] = users[['BirthDate', 'Created', 'LastLoggedIn', 'Gender']].apply(pd.to_numeric, errors = 'coerce').astype('Int64')"
   ]
  },
  {
   "cell_type": "code",
   "execution_count": 8,
   "id": "8c2d467a-6eaf-483f-b070-3c685d63d5cb",
   "metadata": {},
   "outputs": [
    {
     "data": {
      "text/html": [
       "<div>\n",
       "<style scoped>\n",
       "    .dataframe tbody tr th:only-of-type {\n",
       "        vertical-align: middle;\n",
       "    }\n",
       "\n",
       "    .dataframe tbody tr th {\n",
       "        vertical-align: top;\n",
       "    }\n",
       "\n",
       "    .dataframe thead th {\n",
       "        text-align: right;\n",
       "    }\n",
       "</style>\n",
       "<table border=\"1\" class=\"dataframe\">\n",
       "  <thead>\n",
       "    <tr style=\"text-align: right;\">\n",
       "      <th></th>\n",
       "      <th>Id</th>\n",
       "      <th>DisplayName</th>\n",
       "      <th>Email</th>\n",
       "      <th>BirthDate</th>\n",
       "      <th>IsActivated</th>\n",
       "      <th>Created</th>\n",
       "      <th>LastLoggedIn</th>\n",
       "      <th>LastModified</th>\n",
       "      <th>Gender</th>\n",
       "      <th>UnsubscribedFromMails</th>\n",
       "      <th>IsBanned</th>\n",
       "    </tr>\n",
       "  </thead>\n",
       "  <tbody>\n",
       "    <tr>\n",
       "      <th>0</th>\n",
       "      <td>000094dc-b322-488a-b345-e1418e8cfc29</td>\n",
       "      <td>milenauto</td>\n",
       "      <td>milenauto@abv.bg</td>\n",
       "      <td>&lt;NA&gt;</td>\n",
       "      <td>0</td>\n",
       "      <td>2019</td>\n",
       "      <td>2021</td>\n",
       "      <td>2020</td>\n",
       "      <td>0</td>\n",
       "      <td>0</td>\n",
       "      <td>0</td>\n",
       "    </tr>\n",
       "    <tr>\n",
       "      <th>1</th>\n",
       "      <td>00016423-8d76-4fcd-8bbd-42ba430dfed5</td>\n",
       "      <td>Боян Смилов</td>\n",
       "      <td>boyan.smilov@gmail.com</td>\n",
       "      <td>&lt;NA&gt;</td>\n",
       "      <td>0</td>\n",
       "      <td>2018</td>\n",
       "      <td>2018</td>\n",
       "      <td>2018</td>\n",
       "      <td>0</td>\n",
       "      <td>0</td>\n",
       "      <td>0</td>\n",
       "    </tr>\n",
       "    <tr>\n",
       "      <th>2</th>\n",
       "      <td>00033634-8b8b-4203-9ca7-101ccb07c901</td>\n",
       "      <td>Presian Mladenov</td>\n",
       "      <td>jebb@mail.bg</td>\n",
       "      <td>&lt;NA&gt;</td>\n",
       "      <td>1</td>\n",
       "      <td>2019</td>\n",
       "      <td>2022</td>\n",
       "      <td>2022</td>\n",
       "      <td>0</td>\n",
       "      <td>0</td>\n",
       "      <td>0</td>\n",
       "    </tr>\n",
       "    <tr>\n",
       "      <th>3</th>\n",
       "      <td>0003ed08-9b7b-4f38-9d8a-31354663a1e7</td>\n",
       "      <td>Evgeni Ivanov</td>\n",
       "      <td>evgeniivanov444@gmail.com</td>\n",
       "      <td>&lt;NA&gt;</td>\n",
       "      <td>0</td>\n",
       "      <td>2017</td>\n",
       "      <td>2017</td>\n",
       "      <td>2017</td>\n",
       "      <td>0</td>\n",
       "      <td>0</td>\n",
       "      <td>0</td>\n",
       "    </tr>\n",
       "    <tr>\n",
       "      <th>4</th>\n",
       "      <td>0004a94e-5717-4e50-b8c7-f0471fc316d9</td>\n",
       "      <td>Галина Йочева</td>\n",
       "      <td>yochevaa@gmail.com</td>\n",
       "      <td>&lt;NA&gt;</td>\n",
       "      <td>1</td>\n",
       "      <td>2018</td>\n",
       "      <td>2021</td>\n",
       "      <td>2021</td>\n",
       "      <td>1</td>\n",
       "      <td>0</td>\n",
       "      <td>0</td>\n",
       "    </tr>\n",
       "  </tbody>\n",
       "</table>\n",
       "</div>"
      ],
      "text/plain": [
       "                                     Id       DisplayName  \\\n",
       "0  000094dc-b322-488a-b345-e1418e8cfc29         milenauto   \n",
       "1  00016423-8d76-4fcd-8bbd-42ba430dfed5       Боян Смилов   \n",
       "2  00033634-8b8b-4203-9ca7-101ccb07c901  Presian Mladenov   \n",
       "3  0003ed08-9b7b-4f38-9d8a-31354663a1e7     Evgeni Ivanov   \n",
       "4  0004a94e-5717-4e50-b8c7-f0471fc316d9     Галина Йочева   \n",
       "\n",
       "                       Email  BirthDate  IsActivated  Created  LastLoggedIn  \\\n",
       "0           milenauto@abv.bg       <NA>            0     2019          2021   \n",
       "1     boyan.smilov@gmail.com       <NA>            0     2018          2018   \n",
       "2               jebb@mail.bg       <NA>            1     2019          2022   \n",
       "3  evgeniivanov444@gmail.com       <NA>            0     2017          2017   \n",
       "4         yochevaa@gmail.com       <NA>            1     2018          2021   \n",
       "\n",
       "  LastModified  Gender UnsubscribedFromMails  IsBanned  \n",
       "0         2020       0                     0         0  \n",
       "1         2018       0                     0         0  \n",
       "2         2022       0                     0         0  \n",
       "3         2017       0                     0         0  \n",
       "4         2021       1                     0         0  "
      ]
     },
     "execution_count": 8,
     "metadata": {},
     "output_type": "execute_result"
    }
   ],
   "source": [
    "users.head()"
   ]
  },
  {
   "cell_type": "code",
   "execution_count": 9,
   "id": "7499c689-99c2-459b-92e3-1e40711e0017",
   "metadata": {},
   "outputs": [
    {
     "data": {
      "text/html": [
       "<div>\n",
       "<style scoped>\n",
       "    .dataframe tbody tr th:only-of-type {\n",
       "        vertical-align: middle;\n",
       "    }\n",
       "\n",
       "    .dataframe tbody tr th {\n",
       "        vertical-align: top;\n",
       "    }\n",
       "\n",
       "    .dataframe thead th {\n",
       "        text-align: right;\n",
       "    }\n",
       "</style>\n",
       "<table border=\"1\" class=\"dataframe\">\n",
       "  <thead>\n",
       "    <tr style=\"text-align: right;\">\n",
       "      <th></th>\n",
       "      <th>count</th>\n",
       "      <th>mean</th>\n",
       "      <th>std</th>\n",
       "      <th>min</th>\n",
       "      <th>25%</th>\n",
       "      <th>50%</th>\n",
       "      <th>75%</th>\n",
       "      <th>max</th>\n",
       "    </tr>\n",
       "  </thead>\n",
       "  <tbody>\n",
       "    <tr>\n",
       "      <th>BirthDate</th>\n",
       "      <td>892.0</td>\n",
       "      <td>1990.651345</td>\n",
       "      <td>7.417225</td>\n",
       "      <td>1937.0</td>\n",
       "      <td>1988.0</td>\n",
       "      <td>1993.0</td>\n",
       "      <td>1996.0</td>\n",
       "      <td>1999.0</td>\n",
       "    </tr>\n",
       "    <tr>\n",
       "      <th>IsActivated</th>\n",
       "      <td>32575.0</td>\n",
       "      <td>0.527398</td>\n",
       "      <td>0.499256</td>\n",
       "      <td>0.0</td>\n",
       "      <td>0.0</td>\n",
       "      <td>1.0</td>\n",
       "      <td>1.0</td>\n",
       "      <td>1.0</td>\n",
       "    </tr>\n",
       "    <tr>\n",
       "      <th>Created</th>\n",
       "      <td>32575.0</td>\n",
       "      <td>2019.209486</td>\n",
       "      <td>1.962803</td>\n",
       "      <td>2017.0</td>\n",
       "      <td>2017.0</td>\n",
       "      <td>2019.0</td>\n",
       "      <td>2021.0</td>\n",
       "      <td>2023.0</td>\n",
       "    </tr>\n",
       "    <tr>\n",
       "      <th>LastLoggedIn</th>\n",
       "      <td>32528.0</td>\n",
       "      <td>2020.04636</td>\n",
       "      <td>2.136171</td>\n",
       "      <td>2017.0</td>\n",
       "      <td>2018.0</td>\n",
       "      <td>2020.0</td>\n",
       "      <td>2022.0</td>\n",
       "      <td>2023.0</td>\n",
       "    </tr>\n",
       "    <tr>\n",
       "      <th>Gender</th>\n",
       "      <td>23792.0</td>\n",
       "      <td>0.41329</td>\n",
       "      <td>0.492434</td>\n",
       "      <td>0.0</td>\n",
       "      <td>0.0</td>\n",
       "      <td>0.0</td>\n",
       "      <td>1.0</td>\n",
       "      <td>1.0</td>\n",
       "    </tr>\n",
       "    <tr>\n",
       "      <th>IsBanned</th>\n",
       "      <td>32575.0</td>\n",
       "      <td>0.000153</td>\n",
       "      <td>0.012388</td>\n",
       "      <td>0.0</td>\n",
       "      <td>0.0</td>\n",
       "      <td>0.0</td>\n",
       "      <td>0.0</td>\n",
       "      <td>1.0</td>\n",
       "    </tr>\n",
       "  </tbody>\n",
       "</table>\n",
       "</div>"
      ],
      "text/plain": [
       "                count         mean       std     min     25%     50%     75%  \\\n",
       "BirthDate       892.0  1990.651345  7.417225  1937.0  1988.0  1993.0  1996.0   \n",
       "IsActivated   32575.0     0.527398  0.499256     0.0     0.0     1.0     1.0   \n",
       "Created       32575.0  2019.209486  1.962803  2017.0  2017.0  2019.0  2021.0   \n",
       "LastLoggedIn  32528.0   2020.04636  2.136171  2017.0  2018.0  2020.0  2022.0   \n",
       "Gender        23792.0      0.41329  0.492434     0.0     0.0     0.0     1.0   \n",
       "IsBanned      32575.0     0.000153  0.012388     0.0     0.0     0.0     0.0   \n",
       "\n",
       "                 max  \n",
       "BirthDate     1999.0  \n",
       "IsActivated      1.0  \n",
       "Created       2023.0  \n",
       "LastLoggedIn  2023.0  \n",
       "Gender           1.0  \n",
       "IsBanned         1.0  "
      ]
     },
     "execution_count": 9,
     "metadata": {},
     "output_type": "execute_result"
    }
   ],
   "source": [
    "users.describe().T"
   ]
  },
  {
   "cell_type": "code",
   "execution_count": 10,
   "id": "2b772e5b-78b4-4a9a-a351-609e4a82640b",
   "metadata": {},
   "outputs": [
    {
     "data": {
      "text/plain": [
       "(Gender\n",
       " 0    13959\n",
       " 1     9833\n",
       " Name: count, dtype: Int64,\n",
       " IsBanned\n",
       " 0    32570\n",
       " 1        5\n",
       " Name: count, dtype: int64)"
      ]
     },
     "execution_count": 10,
     "metadata": {},
     "output_type": "execute_result"
    }
   ],
   "source": [
    "users.Gender.value_counts(), users.IsBanned.value_counts()"
   ]
  },
  {
   "cell_type": "code",
   "execution_count": 11,
   "id": "272fe59a-0b80-4f67-ae0a-5ac6723b2737",
   "metadata": {},
   "outputs": [
    {
     "data": {
      "text/plain": [
       "Id                           0\n",
       "DisplayName                 24\n",
       "Email                     2494\n",
       "BirthDate                31683\n",
       "IsActivated                  0\n",
       "Created                      0\n",
       "LastLoggedIn                47\n",
       "LastModified                 0\n",
       "Gender                    8783\n",
       "UnsubscribedFromMails        2\n",
       "IsBanned                     0\n",
       "dtype: int64"
      ]
     },
     "execution_count": 11,
     "metadata": {},
     "output_type": "execute_result"
    }
   ],
   "source": [
    "users.isnull().sum()"
   ]
  },
  {
   "cell_type": "markdown",
   "id": "7c71fdb4-f42b-4c51-8f67-965e408ea6ac",
   "metadata": {},
   "source": [
    "### Основни Наблюдения:\n",
    "\n",
    "1. Виждаме, че за огромен брой потребители рожденната дата липсва. От наличните данни виждаме, че голяма част от потребителите са родени над 1988 година (75%), а 50% от тях са над 1993та. Оказва се, че няма потребители родени над 1999 година, извод, който не изглежда реалистичен и трябва да се провери.\n",
    "\n",
    "2. От извадка от 32,575 потребителя 52.7% са с активирани акаунти. На този етап не можем да заявим дали това е добър процент, предварително трябва да се проучат други подобни бизнеси и да се разбере техният Activation Rate.\n",
    "\n",
    "3. Средната стойност в променливата LastLoggedIn показва, че голяма част от потребителите в базата данни са неактивни, над 75% не са били активни в приложението от 2022 година.\n",
    "\n",
    "4. 27% от потребителите предпочитат да запазят информацията за пола си анонимна (значителен процент, който показва недоволството на клиентите относно събирането на този вид данни).\n",
    "\n",
    "5. От останалите 23,792 човека, около 59% са мъже и 41% са жени, което показва значително подобен интерес и при двата пола.\n",
    "\n",
    "6. Процентът баннати потребители е изключително незначителен.\n",
    "\n",
    "<br>\n",
    "\n",
    "## Анализ на отделни променливи\n",
    "\n",
    "### 1. Рожденна дата"
   ]
  },
  {
   "cell_type": "code",
   "execution_count": 12,
   "id": "749fa6f6-29c5-46ca-951e-adde1953b31c",
   "metadata": {},
   "outputs": [
    {
     "data": {
      "image/png": "[encoded data removed]",
      "text/plain": [
       "<Figure size 800x400 with 1 Axes>"
      ]
     },
     "metadata": {},
     "output_type": "display_data"
    }
   ],
   "source": [
    "plt.figure(figsize = (8, 4))\n",
    "\n",
    "sns.distplot(users.BirthDate.dropna(), bins = 60)\n",
    "\n",
    "plt.title(\"Разпределение на Възрастта на Потребителите\")\n",
    "plt.xlabel(\"Възраст\")\n",
    "plt.ylabel(\"Честота\")\n",
    "\n",
    "plt.show()"
   ]
  },
  {
   "cell_type": "markdown",
   "id": "780151f7-761e-447a-9870-69e8e620928e",
   "metadata": {},
   "source": [
    "#### Открития и препоръки:\n",
    "\n",
    "1. Имайки предвид, че имаме рожденна дата на около 1000 потребителя, може да приемем, че това е една добра представителна извадка от цялата база данни.\n",
    "\n",
    "2. Целеви пазар: Разбирането на диапазона от години на раждане на основните потребители помага на бизнеса да определи своя целеви пазар. Както виждаме, основната аудитория принадлежи към поколението на милениалите, бизнесът може да приспособи своите продукти, услуги и маркетингови стратегии, за да отговори по-добре на предпочитанията, нуждите и ценностите на тази специфична демографска група.\n",
    "\n",
    "3. Дигитално поколение: Това означава, че бизнесът може да се съсредоточи върху онлайн и дигитални маркетингови канали, за да се ангажира ефективно с целевата си аудитория. Развиването на силно онлайн присъствие, използването на социални медийни платформи и създаването на удобни за мобилни устройства изживявания могат да бъдат жизненоважни за достигане и свързване с клиенти от тази група.\n",
    "\n",
    "4. Осъзнаване на стойност и целенасоченост: Милениалите често дават приоритет на стойността и целта, когато вземат решения за покупка. Те са склонни да търсят продукти и услуги, които са в съответствие с техните лични ценности, включително устойчивост и етични практики. Бизнесите, които могат да демонстрират своя ангажимент към тези ценности, имат възможността да резонират с групата клиенти и да изградят лоялност към марката.\n",
    "\n",
    "5. Инициативи за социална отговорност: Милениалите често подкрепят бизнеси, които демонстрират социална отговорност. Компаниите могат да участват в благотворителни партньорства, да дарят част от печалбите си за кауза или да стартират инициативи, насочени към социални проблеми. Чрез привеждането на марката си в съответствие със социална кауза, бизнесът може да резонира с милениалите, които са мотивирани да оказват положително влияние в обществото.\n",
    "\n",
    "6. Съдържание, генерирано от потребителите, и маркетинг с влияние: Милениалите се доверяват на мненията и препоръките на своите връстници. Бизнесът може да насърчи клиентите на хилядолетието да споделят своя опит чрез генерирано от потребителите съдържание, като рецензии, препоръки и публикации в социалните медии. Освен това сътрудничеството с инфлуенсъри, които имат силни хилядолетни последователи, може да помогне за повишаване на познаваемостта на марката и доверието сред тази демографска група.\n",
    "\n",
    "    - Mоже да добавим провеждане на конкурси или раздаване на подаръци в социалните медии и споделяне на ценно съдържание, което резонира с интересите и ценностите на поколението. Социалните медии могат да се използват и за показване на моменти \"зад кулисите\" на бизнеса и истории на клиенти.\n",
    "    \n",
    "<br>\n",
    "\n",
    "### 2. Активиране на Акаунт "
   ]
  },
  {
   "cell_type": "code",
   "execution_count": 13,
   "id": "1a0f7ea7-dab4-4e03-8b8e-1c28e2202d32",
   "metadata": {},
   "outputs": [
    {
     "data": {
      "text/plain": [
       "(IsActivated\n",
       " 1    17180\n",
       " 0    15395\n",
       " Name: count, dtype: int64,\n",
       " IsActivated\n",
       " 1    0.527398\n",
       " 0    0.472602\n",
       " Name: proportion, dtype: float64)"
      ]
     },
     "execution_count": 13,
     "metadata": {},
     "output_type": "execute_result"
    }
   ],
   "source": [
    "users.IsActivated.value_counts(), users.IsActivated.value_counts(normalize = True)"
   ]
  },
  {
   "cell_type": "markdown",
   "id": "5e5d3fcc-a0dd-4710-bb01-d0e287d3c9c0",
   "metadata": {},
   "source": [
    "#### Открития и препоръки:\n",
    "\n",
    "1. Положителен процент на активиране: Степента на активиране може да бъде индикация за ангажираност на потребителите и интерес към предложенията на приложението. Това показва, че значителен брой потребители са предприели необходимите стъпки, за да започнат да използват функциите на приложението.\n",
    "\n",
    "2. Потенциал за растеж: С 52,7% от потребителите, които активират акаунтите си, все още има потенциал за увеличаване на потребителската база чрез насърчаване на повече потребители да активират своите акаунти. Това може да се постигне чрез целенасочени маркетингови кампании, стимули за потребителите или подобряване на процеса на включване.\n",
    "\n",
    "3. Стратегии за задържане: Важно е да се съсредоточим върху задържането на активираните потребители и насърчаването им да продължат да използват приложението редовно. Внедряването на стратегии за задържане като персонализирани изживявания, непрекъсната комуникация и ценни функции може да помогне за поддържане на ангажираността и лоялността на потребителите.\n",
    "\n",
    "5. Сравнителен анализ: Би било полезно да сравним степента на активиране с индустриалните стандарти или конкуренти, за да оцените ефективността на приложението спрямо други. Този сравнителен анализ може да предостави информация за областите за подобрение и задаване на реалистични цели.\n",
    "\n",
    "    - Доклад от 2022 г. на OpenView установява нива на активиране между 14% и 33% за различни компании. Следователно, нашият процент е над \"добър\".\n",
    "    \n",
    "    - Как да подобрим процентът активации:\n",
    "    \n",
    "        - Опростяване на регистрацията и адаптирането\n",
    "        \n",
    "        - Потребителите реагират най-добре на прост, директен език, а не на сложни параграфи. Би било да се уверим, че езикът в приложението е директен и фокусиран върху ползите.\n",
    "        \n",
    "        - Използване на контролни списъци и геймификация\n",
    "            - Постижения и значки\n",
    "            - Точки за използване за козметични надстройки\n",
    "            - Класации сред членовете на \n",
    "            - Ленти за напредъка на изпълнението на целта\n",
    "            \n",
    "        - Имплементиране на База от Знания (център за ресурси) с ръководства и инструкции, често задавани въпроси, публикации в блогове и др.\n",
    "        \n",
    "        - Получаване на мейл за добре дошли\n",
    "        \n",
    "        - Съобщенията за жизнения цикъл също са чудесен начин да върнем неактивните потребители (напр. потребител, който не е активирал акаунта си) обратно в системата.\n",
    "        \n",
    "<br>\n",
    "\n",
    "### 3. Последна Активност"
   ]
  },
  {
   "cell_type": "code",
   "execution_count": 14,
   "id": "c9b73b4a-0214-4310-8260-3f1e15245920",
   "metadata": {},
   "outputs": [
    {
     "data": {
      "text/plain": [
       "(LastLoggedIn\n",
       " 2022    5912\n",
       " 2023    5504\n",
       " 2017    5421\n",
       " 2019    4883\n",
       " 2018    4554\n",
       " 2021    3426\n",
       " 2020    2828\n",
       " Name: count, dtype: Int64,\n",
       " LastLoggedIn\n",
       " 2022    0.181751\n",
       " 2023    0.169208\n",
       " 2017    0.166656\n",
       " 2019    0.150117\n",
       " 2018    0.140002\n",
       " 2021    0.105325\n",
       " 2020     0.08694\n",
       " Name: proportion, dtype: Float64)"
      ]
     },
     "execution_count": 14,
     "metadata": {},
     "output_type": "execute_result"
    }
   ],
   "source": [
    "users.LastLoggedIn.value_counts(), users.LastLoggedIn.value_counts(normalize = True)"
   ]
  },
  {
   "cell_type": "markdown",
   "id": "6737c43c-d3a8-49e1-b260-5c1ea9a7e3d3",
   "metadata": {},
   "source": [
    "#### Открития и препоръки:\n",
    "\n",
    "- От предоставената информация може да се заключи, че сравнително нисък процент потребители (17%) са били активни през последната година от общата потребителска база от 32 575. Това предполага, че може да има спад или липса на ангажираност сред потребителите с течение на времето.\n",
    "\n",
    "- Въз основа на това заключение някои препоръки могат да бъдат:\n",
    "\n",
    "    - Подобряване на ангажираността на потребителите: Прилагане на стратегии за увеличаване на ангажираността на потребителите и насърчаване на активно участие. Това може да включва предоставяне на стимули, въвеждане на нови функции или актуализации, провеждане на потребителски проучвания, за да се разберат техните нужди и предпочитания, и предлагане на персонализирани изживявания.\n",
    "\n",
    "    - Подобряване на услугата: Оценка на текущите предложения и идентифициране на областите за подобрение. Може да се помисли за добавяне на нови функции, подобряване на потребителското изживяване и справяне с всички болкови точки или предизвикателства, пред които са изправени потребителите. Това може да помогне за привличането и задържането на повече активни потребители.\n",
    "\n",
    "    - Анализиране на поведението и предпочитанията на потребителите: Извършване на задълбочен анализ на поведението и предпочитанията на потребителите, за да разберем защо процентът на активните потребители е нисък. Идентифициране на всички модели или тенденции, които могат да дадат представа за причините за ниската ангажираност. Този анализ може да помогне за приспособяване на стратегии и инициативи за по-добро посрещане на нуждите и очакванията на потребителите.\n",
    "\n",
    "    - Комуникационни и маркетингови усилия: Укрепване на комуникационните канали с потребителите и прилагане на целенасочени маркетингови усилия за повторно ангажиране на неактивни потребители. Това може да включва персонализирани имейли, известия или специални оферти, които да ги насърчат да посетят отново и да се ангажират с платформата.\n",
    "\n",
    "    - Активно събиране на обратна връзка от потребителите: Активно търсене на обратна връзка от потребителите, за да се разберат техните притеснения, предизвикателства и предложения за подобрение. Тази обратна връзка може да насочи бъдещото развитие и подобрения за по-добро съответствие с очакванията на потребителите.\n",
    "    \n",
    "<br>\n",
    "\n",
    "### 4. Пол на потребителите"
   ]
  },
  {
   "cell_type": "code",
   "execution_count": 15,
   "id": "8deaf69f-e3ff-4f51-b217-a6fe71e5dcd9",
   "metadata": {},
   "outputs": [
    {
     "data": {
      "text/plain": [
       "(Gender\n",
       " 0    13959\n",
       " 1     9833\n",
       " Name: count, dtype: Int64,\n",
       " Gender\n",
       " 0    0.58671\n",
       " 1    0.41329\n",
       " Name: proportion, dtype: Float64)"
      ]
     },
     "execution_count": 15,
     "metadata": {},
     "output_type": "execute_result"
    }
   ],
   "source": [
    "users.Gender.value_counts(), users.Gender.value_counts(normalize = True)"
   ]
  },
  {
   "cell_type": "markdown",
   "id": "08aaa0b1-0e2e-45be-936c-2f537e1a99dc",
   "metadata": {},
   "source": [
    "#### Открития и препоръки:\n",
    "\n",
    "Въз основа на предоставената информация могат да се направят няколко извода и препоръки:\n",
    "\n",
    " - Неразкриване на пола: Фактът, че 8783 потребители са решили да не споделят пола си, показва значителна част от потребителската база, която може да има опасения за поверителността или предпочита да не разкрива тази информация. Важно е да се зачита изборът на поверителност на потребителите и да се гарантира, че платформата поддържа подходящи мерки за защита на данните.\n",
    "\n",
    "- Разпределение по пол: Сред потребителите, които са разкрили своя пол, приблизително 59% са мъже и 41% са жени. Това предполага дисбаланс между половете в рамките на потребителската база, с по-голямо представителство на мъже потребители. \n",
    "\n",
    "- Приобщаване и разнообразие: За да се създаде по-приобщаваща и разнообразна платформа, е важно да се насърчат потребителите да споделят своята информация за пола, като същевременно се гарантира, че тя е незадължителна и зачита тяхната поверителност. Прилагането на инициативи за насърчаване на разнообразието, като целенасочени маркетингови кампании, приобщаващ език и функции, които отговарят на разнообразните потребителски нужди, може да помогне за привличането и задържането на по-разнообразна потребителска база.\n",
    "\n",
    "<br>\n",
    "\n",
    "### 5. Отписани от имейли"
   ]
  },
  {
   "cell_type": "code",
   "execution_count": 16,
   "id": "56906905-148e-4058-b0e6-264bbc91a360",
   "metadata": {},
   "outputs": [
    {
     "data": {
      "text/plain": [
       "(UnsubscribedFromMails\n",
       " 0                             31697\n",
       " 1                               875\n",
       " 2023-06-22 14:54:28.327751        1\n",
       " Name: count, dtype: int64,\n",
       " UnsubscribedFromMails\n",
       " 0                             0.973107\n",
       " 1                             0.026863\n",
       " 2023-06-22 14:54:28.327751    0.000031\n",
       " Name: proportion, dtype: float64)"
      ]
     },
     "execution_count": 16,
     "metadata": {},
     "output_type": "execute_result"
    }
   ],
   "source": [
    "users.UnsubscribedFromMails.value_counts(), users.UnsubscribedFromMails.value_counts(normalize = True)"
   ]
  },
  {
   "cell_type": "markdown",
   "id": "69c6def0-8317-44cc-bbf2-3b01afd5a3fe",
   "metadata": {},
   "source": [
    "#### Открития и препоръки:\n",
    "\n",
    "Въз основа на предоставената информация приблизително 97,46% от клиентите все още получават имейли. Това предполага, че по-голямата част от клиентите все още са активни получатели на имейли.\n",
    "\n",
    "- Преглеждане съдържанието и честотата на имейлите: Струва си да прегледаме съдържанието, честотата и уместността на имейлите, изпращани на клиентите. Ще е добре да оценим дали имейлите предоставят стойност и отговарят на очакванията на клиентите и да помислим за провеждане на проучвания или събиране на обратна връзка от абонирани клиенти, за да разберем причините им да се откажат и да идентифицирате области за подобрение.\n",
    "\n",
    "- Подобряване ангажираността с имейлите: Подобряване на цялостното качество на имейлите, като се съсредоточим върху фактори като завладяващи теми, ценно съдържание, привлекателни визуални ефекти и ясен призив за действие. Един добре проектиран и ангажиращ имейл може да привлече вниманието на клиентите и да увеличи вероятността те да останат абонирани.\n",
    "\n",
    "- Сегментиране и персонализиране: Прилагането на целенасочени имейл кампании въз основа на предпочитанията и интересите на клиента може да помогне за подобряване на ангажираността и намаляване на броя на отписаните абонаменти. Чрез сегментиране на клиентската база и приспособяване на имейл съдържанието към конкретни сегменти, можем да осигурим по-персонализирана и подходяща комуникация, която е в съответствие с техните нужди и интереси.\n",
    "\n",
    "<br>\n",
    "\n",
    "### 6. Корелации между променливите"
   ]
  },
  {
   "cell_type": "code",
   "execution_count": 17,
   "id": "3af1d1ad-78db-44eb-92cd-df9433e86750",
   "metadata": {},
   "outputs": [],
   "source": [
    "numeric_cols = users.select_dtypes(include = ['float', 'int'])\n",
    "correlation_matrix = numeric_cols.corr()"
   ]
  },
  {
   "cell_type": "code",
   "execution_count": 18,
   "id": "3b8d6704-b22c-4587-a0da-d4361598d0f7",
   "metadata": {},
   "outputs": [
    {
     "data": {
      "image/png": "[encoded data removed]",
      "text/plain": [
       "<Figure size 600x400 with 2 Axes>"
      ]
     },
     "metadata": {},
     "output_type": "display_data"
    }
   ],
   "source": [
    "plt.figure(figsize = (6, 4))\n",
    "\n",
    "sns.heatmap(correlation_matrix, annot = True, cmap = 'coolwarm')\n",
    "\n",
    "plt.title('Взаимовръзки на Числовите Променливи')\n",
    "plt.show()"
   ]
  },
  {
   "cell_type": "markdown",
   "id": "b8af4b2f-7ecc-47fb-99f4-e51b39d66ce9",
   "metadata": {},
   "source": [
    "#### Открития и наблюдения:\n",
    "\n",
    "- В този контекст, корелация от 0,71 показва, че има относително силна връзка между времето на създаване на акаунта и вероятността за активиране на акаунта. Това предполага, че има тенденция акаунтите, създадени в определени моменти, да бъдат по-вероятно да бъдат активирани.\n",
    "\n",
    "- Въз основа на тази корелация можем да заключим, че може да има определени фактори или модели, свързани с времето за създаване на акаунта, които влияят върху активирането на акаунтите. Може да си струва да проучим допълнително тези фактори, за да идентифицираме всякакви прозрения или тенденции, които могат да помогнат за подобряване на процента на активиране.\n",
    "\n",
    "<br>\n",
    "\n",
    "Нека разгледаме тази взаимовръзка по-подробно:"
   ]
  },
  {
   "cell_type": "code",
   "execution_count": 19,
   "id": "57822529-5a35-419c-b141-af25e36f7e59",
   "metadata": {},
   "outputs": [],
   "source": [
    "users_filtered = users[['Created', 'IsActivated']]\n",
    "\n",
    "grouped_data = users_filtered.groupby('Created')['IsActivated'].mean()\n",
    "\n",
    "sorted_data = grouped_data.sort_index()"
   ]
  },
  {
   "cell_type": "code",
   "execution_count": 20,
   "id": "51cfab2a-cf02-4d3e-aa54-1bc31841b0d7",
   "metadata": {},
   "outputs": [
    {
     "data": {
      "image/png": "[encoded data removed]",
      "text/plain": [
       "<Figure size 800x400 with 1 Axes>"
      ]
     },
     "metadata": {},
     "output_type": "display_data"
    }
   ],
   "source": [
    "plt.figure(figsize = (8, 4))\n",
    "\n",
    "plt.plot(sorted_data.index, sorted_data.values)\n",
    "\n",
    "plt.title('Тенденция на Активация на Акаунтите във Времето')\n",
    "plt.xlabel('Година на Създаване на Акаунта')\n",
    "plt.ylabel('Процент Активирани Акаунти')\n",
    "\n",
    "plt.show()"
   ]
  },
  {
   "cell_type": "code",
   "execution_count": 21,
   "id": "9e4a8fa8-45c3-4287-83db-5a43ceb88bfd",
   "metadata": {},
   "outputs": [
    {
     "data": {
      "text/plain": [
       "Created\n",
       "2017    0.196648\n",
       "2018    0.216302\n",
       "2019    0.676237\n",
       "2020    0.790142\n",
       "2021    0.792089\n",
       "2022    0.874373\n",
       "2023    0.908807\n",
       "Name: IsActivated, dtype: float64"
      ]
     },
     "execution_count": 21,
     "metadata": {},
     "output_type": "execute_result"
    }
   ],
   "source": [
    "sorted_data"
   ]
  },
  {
   "cell_type": "markdown",
   "id": "74155576-684a-43c3-bfb0-062b317ba7ec",
   "metadata": {},
   "source": [
    "#### Открития и препоръки:\n",
    "\n",
    "Въз основа на предоставените нива на активиране за всяка година могат да се направят следните изводи:\n",
    "\n",
    "- Степента на активиране като цяло се е увеличила през годините. Започвайки от 2017 г. с процент на активиране от 19,7%, процентите непрекъснато се повишават, достигайки максимум от 90,9% през 2023 г.\n",
    "\n",
    "- Има значително увеличение на нивата на активиране от 2019 г. нататък. Процентът на активиране се е увеличил повече от два пъти от 2018 г. (21,6%) до 2019 г. (67,6%) и е продължил да нараства през следващите години.\n",
    "\n",
    "- Най-високите нива на активиране се наблюдават през последните години, като 2022 (87,4%) и 2023 (90,9%) показват най-високи проценти.\n",
    "\n",
    "Въз основа на тези заключения могат да се направят следните препоръки:\n",
    " \n",
    "- Анализ на конкретните промени или инициативи, въведени през 2019 г., които са довели до значителен скок в нивата на активиране. Разбирането на причините зад това подобрение може да помогне за възпроизвеждането на успешните стратегии в бъдещи инициативи.\n",
    "\n",
    "- Да помислим за проучване на факторите, допринасящи за изключително високите нива на активиране през 2022 г. и 2023 г. Идентифицирането на двигателите на успеха през тези периоди може да помогне за оптимизиране на усилията за активиране и поддържане на висока производителност в бъдеще.\n",
    "\n",
    "<br>\n",
    "\n",
    "# Анализ на втора база данни\n",
    "\n",
    "В тази секция ще разгледаме повече детайли за потребителите"
   ]
  },
  {
   "cell_type": "code",
   "execution_count": 22,
   "id": "58518071-436c-4ac4-bfdd-3919c0bef9a6",
   "metadata": {},
   "outputs": [],
   "source": [
    "instances = pd.read_csv(\"data/willdriveinstances.csv\")"
   ]
  },
  {
   "cell_type": "code",
   "execution_count": 23,
   "id": "32088f77-f021-4491-ae95-0646a95618b9",
   "metadata": {},
   "outputs": [],
   "source": [
    "towns = pd.read_csv(\"data/towns.csv\")"
   ]
  },
  {
   "cell_type": "code",
   "execution_count": 24,
   "id": "b353f9ee-e8b1-4ea5-b75b-35e600c0b283",
   "metadata": {},
   "outputs": [],
   "source": [
    "merged_df = pd.merge(instances, towns[['Id', 'Name']], left_on = 'FromDestinationId', right_on = 'Id', how = 'left')"
   ]
  },
  {
   "cell_type": "code",
   "execution_count": 25,
   "id": "2eeebf32-87f3-4c4e-a6f4-deb10de2083b",
   "metadata": {},
   "outputs": [
    {
     "data": {
      "text/plain": [
       "Index(['Id', 'UserId', 'FromDestinationId', 'ToDestinationId', 'FromDate',\n",
       "       'ToDate', 'VehicleId', 'SeatsCount', 'Price', 'Timestamp', 'Info',\n",
       "       'Status', 'AvailableSeatsCount', 'AllowMidStops',\n",
       "       'MidStopMaximumOffset', 'InResultsCount', 'Views', 'ICanMakeDiscount',\n",
       "       'IsRefugeeFriendly', 'SpeakEnglish', 'SpeakRussian', 'Unnamed: 21',\n",
       "       'Unnamed: 22', 'Unnamed: 23', 'Unnamed: 24', 'Unnamed: 25'],\n",
       "      dtype='object')"
      ]
     },
     "execution_count": 25,
     "metadata": {},
     "output_type": "execute_result"
    }
   ],
   "source": [
    "instances.columns"
   ]
  },
  {
   "cell_type": "code",
   "execution_count": 26,
   "id": "7a8b2339-854d-4bd4-b995-234049fb7ebd",
   "metadata": {},
   "outputs": [],
   "source": [
    "merged_cols_to_drop = [\n",
    "    \"FromDate\", \"ToDate\", \"VehicleId\", \"InResultsCount\", \"Id_y\", \"FromDestinationId\", \"ToDestinationId\", \"Info\", \"Views\",\n",
    "    \"Unnamed: 21\", \"Unnamed: 22\", \"Unnamed: 23\", \"Unnamed: 24\", \"Unnamed: 25\", \"Id_x\", \"MidStopMaximumOffset\", \"AvailableSeatsCount\",\n",
    "    \"SeatsCount\", \"Timestamp\", \"ICanMakeDiscount\", \"Status\"\n",
    "]"
   ]
  },
  {
   "cell_type": "code",
   "execution_count": 27,
   "id": "8314b21f-8b73-4762-b7e1-1597abce5586",
   "metadata": {},
   "outputs": [],
   "source": [
    "merged_df = merged_df.drop(columns = merged_cols_to_drop).reset_index()\n",
    "merged_df = merged_df.rename(columns = {\"Name\": \"FromDestination\"})\n",
    "merged_df = merged_df.fillna(0)"
   ]
  },
  {
   "cell_type": "code",
   "execution_count": 28,
   "id": "19637fc1-bf0c-46e9-a069-1cf380769a8e",
   "metadata": {},
   "outputs": [],
   "source": [
    "vehicles = pd.read_csv(\"data/vehicles.csv\")"
   ]
  },
  {
   "cell_type": "code",
   "execution_count": 29,
   "id": "9f33c47a-9e3d-43de-9fb0-eb4bc1be7f7d",
   "metadata": {},
   "outputs": [],
   "source": [
    "merged_df = pd.merge(merged_df, vehicles[['UserId', 'Brand', 'Year']], left_on = 'UserId', right_on = 'UserId', how = 'left').reset_index(drop = True)"
   ]
  },
  {
   "cell_type": "code",
   "execution_count": 30,
   "id": "10eddd66-deb1-46d7-8fa6-c1eedf7ed33e",
   "metadata": {},
   "outputs": [],
   "source": [
    "duplicates = merged_df.UserId.duplicated()\n",
    "merged_df = merged_df[~duplicates]\n",
    "merged_df = merged_df.drop(columns = \"index\")\n",
    "merged_df.Year = merged_df.Year.replace(0, 2006)"
   ]
  },
  {
   "cell_type": "code",
   "execution_count": 31,
   "id": "6b845216-2901-4c1b-b5a6-2105d6254c4b",
   "metadata": {},
   "outputs": [
    {
     "data": {
      "text/html": [
       "<div>\n",
       "<style scoped>\n",
       "    .dataframe tbody tr th:only-of-type {\n",
       "        vertical-align: middle;\n",
       "    }\n",
       "\n",
       "    .dataframe tbody tr th {\n",
       "        vertical-align: top;\n",
       "    }\n",
       "\n",
       "    .dataframe thead th {\n",
       "        text-align: right;\n",
       "    }\n",
       "</style>\n",
       "<table border=\"1\" class=\"dataframe\">\n",
       "  <thead>\n",
       "    <tr style=\"text-align: right;\">\n",
       "      <th></th>\n",
       "      <th>count</th>\n",
       "      <th>mean</th>\n",
       "      <th>std</th>\n",
       "      <th>min</th>\n",
       "      <th>25%</th>\n",
       "      <th>50%</th>\n",
       "      <th>75%</th>\n",
       "      <th>max</th>\n",
       "    </tr>\n",
       "  </thead>\n",
       "  <tbody>\n",
       "    <tr>\n",
       "      <th>Price</th>\n",
       "      <td>3295.0</td>\n",
       "      <td>14.694188</td>\n",
       "      <td>18.343633</td>\n",
       "      <td>0.0</td>\n",
       "      <td>10.0</td>\n",
       "      <td>12.0</td>\n",
       "      <td>18.0</td>\n",
       "      <td>1000.0</td>\n",
       "    </tr>\n",
       "    <tr>\n",
       "      <th>IsRefugeeFriendly</th>\n",
       "      <td>3295.0</td>\n",
       "      <td>0.005766</td>\n",
       "      <td>0.075728</td>\n",
       "      <td>0.0</td>\n",
       "      <td>0.0</td>\n",
       "      <td>0.0</td>\n",
       "      <td>0.0</td>\n",
       "      <td>1.0</td>\n",
       "    </tr>\n",
       "    <tr>\n",
       "      <th>SpeakEnglish</th>\n",
       "      <td>3295.0</td>\n",
       "      <td>0.006070</td>\n",
       "      <td>0.077684</td>\n",
       "      <td>0.0</td>\n",
       "      <td>0.0</td>\n",
       "      <td>0.0</td>\n",
       "      <td>0.0</td>\n",
       "      <td>1.0</td>\n",
       "    </tr>\n",
       "    <tr>\n",
       "      <th>SpeakRussian</th>\n",
       "      <td>3295.0</td>\n",
       "      <td>0.008801</td>\n",
       "      <td>0.436893</td>\n",
       "      <td>0.0</td>\n",
       "      <td>0.0</td>\n",
       "      <td>0.0</td>\n",
       "      <td>0.0</td>\n",
       "      <td>25.0</td>\n",
       "    </tr>\n",
       "    <tr>\n",
       "      <th>Year</th>\n",
       "      <td>3295.0</td>\n",
       "      <td>2006.797269</td>\n",
       "      <td>5.664217</td>\n",
       "      <td>1989.0</td>\n",
       "      <td>2003.0</td>\n",
       "      <td>2006.0</td>\n",
       "      <td>2010.0</td>\n",
       "      <td>2023.0</td>\n",
       "    </tr>\n",
       "  </tbody>\n",
       "</table>\n",
       "</div>"
      ],
      "text/plain": [
       "                    count         mean        std     min     25%     50%  \\\n",
       "Price              3295.0    14.694188  18.343633     0.0    10.0    12.0   \n",
       "IsRefugeeFriendly  3295.0     0.005766   0.075728     0.0     0.0     0.0   \n",
       "SpeakEnglish       3295.0     0.006070   0.077684     0.0     0.0     0.0   \n",
       "SpeakRussian       3295.0     0.008801   0.436893     0.0     0.0     0.0   \n",
       "Year               3295.0  2006.797269   5.664217  1989.0  2003.0  2006.0   \n",
       "\n",
       "                      75%     max  \n",
       "Price                18.0  1000.0  \n",
       "IsRefugeeFriendly     0.0     1.0  \n",
       "SpeakEnglish          0.0     1.0  \n",
       "SpeakRussian          0.0    25.0  \n",
       "Year               2010.0  2023.0  "
      ]
     },
     "execution_count": 31,
     "metadata": {},
     "output_type": "execute_result"
    }
   ],
   "source": [
    "merged_df.describe().T"
   ]
  },
  {
   "cell_type": "code",
   "execution_count": 32,
   "id": "6ec6c7a5-54ff-4fe9-b81c-58006a9043bc",
   "metadata": {},
   "outputs": [
    {
     "data": {
      "text/html": [
       "<div>\n",
       "<style scoped>\n",
       "    .dataframe tbody tr th:only-of-type {\n",
       "        vertical-align: middle;\n",
       "    }\n",
       "\n",
       "    .dataframe tbody tr th {\n",
       "        vertical-align: top;\n",
       "    }\n",
       "\n",
       "    .dataframe thead th {\n",
       "        text-align: right;\n",
       "    }\n",
       "</style>\n",
       "<table border=\"1\" class=\"dataframe\">\n",
       "  <thead>\n",
       "    <tr style=\"text-align: right;\">\n",
       "      <th></th>\n",
       "      <th>UserId</th>\n",
       "      <th>Price</th>\n",
       "      <th>AllowMidStops</th>\n",
       "      <th>IsRefugeeFriendly</th>\n",
       "      <th>SpeakEnglish</th>\n",
       "      <th>SpeakRussian</th>\n",
       "      <th>FromDestination</th>\n",
       "      <th>Brand</th>\n",
       "      <th>Year</th>\n",
       "    </tr>\n",
       "  </thead>\n",
       "  <tbody>\n",
       "    <tr>\n",
       "      <th>0</th>\n",
       "      <td>b1694ef4-46d4-48d4-9076-72dc92501f79</td>\n",
       "      <td>18.0</td>\n",
       "      <td>1</td>\n",
       "      <td>1.0</td>\n",
       "      <td>1.0</td>\n",
       "      <td>0</td>\n",
       "      <td>София</td>\n",
       "      <td>Opel</td>\n",
       "      <td>2009</td>\n",
       "    </tr>\n",
       "    <tr>\n",
       "      <th>4</th>\n",
       "      <td>05ddc40e-980a-46c0-893e-16f78bd4665e</td>\n",
       "      <td>10.0</td>\n",
       "      <td>1</td>\n",
       "      <td>0.0</td>\n",
       "      <td>0.0</td>\n",
       "      <td>0</td>\n",
       "      <td>Стара Загора</td>\n",
       "      <td>Опел</td>\n",
       "      <td>2008</td>\n",
       "    </tr>\n",
       "    <tr>\n",
       "      <th>6</th>\n",
       "      <td>9bee7177-491d-47e7-8055-dee5f5d85520</td>\n",
       "      <td>20.0</td>\n",
       "      <td>1</td>\n",
       "      <td>0.0</td>\n",
       "      <td>0.0</td>\n",
       "      <td>0</td>\n",
       "      <td>София</td>\n",
       "      <td>Audi</td>\n",
       "      <td>2000</td>\n",
       "    </tr>\n",
       "    <tr>\n",
       "      <th>10</th>\n",
       "      <td>7142b2c9-b881-4bb0-9fca-a05cadc1d7b7</td>\n",
       "      <td>15.0</td>\n",
       "      <td>1</td>\n",
       "      <td>0.0</td>\n",
       "      <td>0.0</td>\n",
       "      <td>0</td>\n",
       "      <td>Нова Загора</td>\n",
       "      <td>Peugeot</td>\n",
       "      <td>2007</td>\n",
       "    </tr>\n",
       "    <tr>\n",
       "      <th>12</th>\n",
       "      <td>3c269932-b992-4c40-a5da-83e55f488068</td>\n",
       "      <td>20.0</td>\n",
       "      <td>1</td>\n",
       "      <td>0.0</td>\n",
       "      <td>0.0</td>\n",
       "      <td>0</td>\n",
       "      <td>Стара Загора</td>\n",
       "      <td>Крайслер</td>\n",
       "      <td>2004</td>\n",
       "    </tr>\n",
       "  </tbody>\n",
       "</table>\n",
       "</div>"
      ],
      "text/plain": [
       "                                  UserId  Price AllowMidStops  \\\n",
       "0   b1694ef4-46d4-48d4-9076-72dc92501f79   18.0             1   \n",
       "4   05ddc40e-980a-46c0-893e-16f78bd4665e   10.0             1   \n",
       "6   9bee7177-491d-47e7-8055-dee5f5d85520   20.0             1   \n",
       "10  7142b2c9-b881-4bb0-9fca-a05cadc1d7b7   15.0             1   \n",
       "12  3c269932-b992-4c40-a5da-83e55f488068   20.0             1   \n",
       "\n",
       "    IsRefugeeFriendly  SpeakEnglish  SpeakRussian FromDestination      Brand  \\\n",
       "0                 1.0           1.0             0           София       Opel   \n",
       "4                 0.0           0.0             0    Стара Загора       Опел   \n",
       "6                 0.0           0.0             0           София       Audi   \n",
       "10                0.0           0.0             0     Нова Загора    Peugeot   \n",
       "12                0.0           0.0             0    Стара Загора  Крайслер    \n",
       "\n",
       "    Year  \n",
       "0   2009  \n",
       "4   2008  \n",
       "6   2000  \n",
       "10  2007  \n",
       "12  2004  "
      ]
     },
     "execution_count": 32,
     "metadata": {},
     "output_type": "execute_result"
    }
   ],
   "source": [
    "merged_df.head()"
   ]
  },
  {
   "cell_type": "markdown",
   "id": "44b8fa60-7ee2-4936-8442-095bbd792fbc",
   "metadata": {},
   "source": [
    "## Анализ на отделни променливи\n",
    "\n",
    "### 1. Начални Дестинации"
   ]
  },
  {
   "cell_type": "code",
   "execution_count": 33,
   "id": "4dc1c432-4c78-427f-bc90-0d548ed3dcf8",
   "metadata": {},
   "outputs": [
    {
     "data": {
      "image/png": "[encoded data removed]",
      "text/plain": [
       "<Figure size 800x400 with 1 Axes>"
      ]
     },
     "metadata": {},
     "output_type": "display_data"
    }
   ],
   "source": [
    "top_5_categories = merged_df.FromDestination.value_counts().nlargest(5).sort_index(ascending = False).index\n",
    "\n",
    "plt.figure(figsize = (8, 4))\n",
    "sns.countplot(data = merged_df[merged_df.FromDestination.isin(top_5_categories)], x = 'FromDestination', order = top_5_categories)\n",
    "\n",
    "plt.xticks(rotation = 45)\n",
    "plt.title('Брой на Началните Дестинации')\n",
    "plt.xlabel('Начални Дестинации')\n",
    "plt.ylabel('Брой')\n",
    "\n",
    "plt.show()"
   ]
  },
  {
   "cell_type": "markdown",
   "id": "34c183ae-e73a-4833-92c5-e49514491015",
   "metadata": {},
   "source": [
    "#### Открития и препоръки:\n",
    "\n",
    "1. Въз основа на тази информация бих препоръчал да се съсредоточим върху по-нататъшното разширяване на потребителската база извън този конкретен регион. \n",
    "\n",
    "2. Може да се обмисли прилагането на целеви маркетингови кампании и промоционални дейности, с цел привличането на потребители от други градове и региони. Като разнообразим потребителската база географски, можем да увеличите общия обхват и потенциалното въздействие на приложението.\n",
    "\n",
    "<br>\n",
    "\n",
    "### 2. Модели Автомобили"
   ]
  },
  {
   "cell_type": "code",
   "execution_count": 34,
   "id": "46105540-24ce-4bf4-860b-1fb73e175d0b",
   "metadata": {},
   "outputs": [
    {
     "data": {
      "image/png": "[encoded data removed]",
      "text/plain": [
       "<Figure size 800x400 with 1 Axes>"
      ]
     },
     "metadata": {},
     "output_type": "display_data"
    }
   ],
   "source": [
    "top_10_cars = merged_df.Brand.value_counts().nlargest(10).sort_index().index\n",
    "\n",
    "plt.figure(figsize = (8, 4))\n",
    "sns.countplot(data = merged_df[merged_df.Brand.isin(top_10_cars)], x = 'Brand', order = top_10_cars)\n",
    "\n",
    "plt.xticks(rotation = 45)\n",
    "plt.title('Най-често Срещани 10 Автомобила')\n",
    "plt.xlabel('Марка Автомобил')\n",
    "plt.ylabel('Брой')\n",
    "\n",
    "plt.show()"
   ]
  },
  {
   "cell_type": "markdown",
   "id": "08efc992-f7e8-4807-8a4f-6099b1c7e845",
   "metadata": {},
   "source": [
    "#### Открития и препоръки:\n",
    "\n",
    "Фактът, че най-често караните автомобили от нашите клиенти са предимно от марки като Audi, BMW, Ford, Honda, Mercedes, Opel, Peugeot, Toyota и Volkswagen, предоставя ценна информация от маркетингова гледна точка. Ето някои съображения и препоръки въз основа на тази информация:\n",
    "\n",
    "- Целенасочена реклама: Фокусиране на рекламните усилия върху платформи и канали, които са популярни сред собствениците на тези марки автомобили. Това може да включва насочени онлайн реклами, партньорства с уебсайтове или списания, свързани с автомобилите, и сътрудничество с автокъщи.\n",
    "\n",
    "- Партньорства с марки: Разглеждане на потенциални сътрудничества или партньорства с марките автомобили, които са популярни сред нашите клиенти. Това може да включва съвместни маркетингови кампании, специални оферти или отстъпки за техните клиенти или инициативи за кръстосано популяризиране, за да се използва съществуващата клиентска база на тези марки.\n",
    "\n",
    " - Персонализирано съдържание: Разработка на съдържание, което резонира с предпочитанията и интересите на собствениците на тези марки автомобили. Това може да включва публикации в блогове, съдържание в социалните медии или бюлетини, които обхващат теми като съвети за поддръжка на автомобили, препоръки за пътуване или най-новите постижения в автомобилната технология.\n",
    "\n",
    "- Персонализирани оферти: Да помислим за персонализиране на нашите предложения или промоции специално за собствениците на тези марки автомобили. Това може да включва изключителни отстъпки, програми за лоялност или награди, които отговарят на техните предпочитания и създават усещане за афинитет и изключителност.\n",
    "\n",
    "- Сътрудничество с общности на автомобилни ентусиасти: Ангажиране с онлайн общности, форуми или групи в социалните медии, посветени на автомобилни ентусиасти. Участвайне в дискусии, предлагане на ценна информация и демонстрация на това как нашето приложение се съгласува с интересите и нуждите на тези общности.\n",
    "\n",
    "<br>\n",
    "\n",
    "### 3. Година на Производство на Автомобила"
   ]
  },
  {
   "cell_type": "code",
   "execution_count": 35,
   "id": "2cd612e2-df87-4ec2-b610-dacbfb04c838",
   "metadata": {},
   "outputs": [
    {
     "data": {
      "image/png": "[encoded data removed]",
      "text/plain": [
       "<Figure size 800x400 with 1 Axes>"
      ]
     },
     "metadata": {},
     "output_type": "display_data"
    }
   ],
   "source": [
    "top_10_years = merged_df.Year.value_counts().nlargest(10).sort_index().index\n",
    "\n",
    "plt.figure(figsize = (8, 4))\n",
    "sns.countplot(data = merged_df[merged_df.Year.isin(top_10_years)], x = 'Year', order = top_10_years)\n",
    "\n",
    "plt.title('Година на Производство на Автомобила: Топ 10')\n",
    "plt.xlabel('Година')\n",
    "plt.ylabel('Брой Записи')\n",
    "\n",
    "plt.show()"
   ]
  },
  {
   "cell_type": "markdown",
   "id": "061cec49-a20b-4f63-a7c1-25f67e04d889",
   "metadata": {},
   "source": [
    "#### Открития и препоръки:\n",
    "\n",
    "Констатацията, че най-добрите 10 години, когато автомобилите на потребителите са произведени, попадат в диапазона от 2000 до 2009 г., предоставя ценна информация и отваря възможности за целенасочен маркетинг и бизнес решения. Ето някои съображения и препоръки въз основа на тази информация:\n",
    "\n",
    " - Целеви маркетинг: Приспособете маркетинговите си усилия, за да се погрижите за предпочитанията и нуждите на потребителите с автомобили, произведени между 2000 и 2009 г. Това може да включва създаване на конкретни маркетингови кампании, промоции или съдържание, което подчертава функции, услуги или предимства, които съответстват на характеристиките на автомобили от онази епоха.\n",
    "\n",
    "- Партньорство с автокъщи: Сътрудничество с автокъщи, специализирани в употребявани автомобили от периода 2000-2009 г. Създаване на партньорства, които да позволяват да популяризираме приложението пред техните клиенти, или проучете възможностите за кръстосано популяризиране, които са от полза и за двете страни.\n",
    "\n",
    " - Услуги за поддръжка и ремонт: Разпознаване потенциалното търсене на услуги за поддръжка и ремонт сред потребителите с автомобили от този конкретен период от време. Може да помислим дали да не предложим партньорство с автосервизи или да предоставим ресурси и информация, свързани с поддръжка, части и ремонт на автомобили.\n",
    "\n",
    "- Като се възползваме от прозрението, че значителна част от потребителската ни база притежава автомобили, произведени между 2000 и 2009 г., можем да настроим фино маркетинговите си стратегии, да създадем подходящи партньорства и да подобрим функциите на приложението, за да обслужваме по-добре тази конкретна група потребители.\n",
    "\n",
    "<br>\n",
    "\n",
    "### 4. Коментари\n",
    "\n",
    "В тази секция ще обърнем внимание на най-често срещаните коментари и ще отделим Топ 10 негативни отзиви, които имат нужда от скорошно внимание."
   ]
  },
  {
   "cell_type": "code",
   "execution_count": 36,
   "id": "b4820995-cfed-42e0-bd14-344a38e06c99",
   "metadata": {},
   "outputs": [],
   "source": [
    "stop_words = [\n",
    "    'и', 'в', 'във', 'на', 'от', 'с', 'се', 'за', 'до', 'което',\n",
    "    'които', 'който', 'при', 'та', 'този', 'тоз', 'тази', 'таз',\n",
    "    'то', 'те', 'тя', 'той', 'него', 'нее', 'негов', 'негова', 'негово',\n",
    "    'това', 'тоя', 'она', 'тях', 'аз', 'ти', 'ми', 'ви', 'го', 'го',\n",
    "    'му', 'ме', 'му', 'ни', 'ну', 'нас', 'вас', 'ги', 'го', 'той',\n",
    "    'не', 'ще', 'да', 'съм', 'си', 'сме', 'сте', 'са', 'беше', 'бил',\n",
    "    'била', 'било', 'били', 'бях', 'беше', 'бяха', 'щеше', 'ще', 'щях',\n",
    "    'щяха', 'не', 'да', 'няма', 'има', 'бил', 'била', 'било', 'били',\n",
    "    'много', 'малко', 'друг', 'друга', 'други', 'един', 'една', 'едно',\n",
    "    'едни', 'никои', 'никой', 'нито', 'някой', 'няма', 'няколко', 'сам',\n",
    "    'сама', 'само', 'самите', 'самият', 'самата', 'самото', 'също', 'същият',\n",
    "    'същата', 'същото', 'същите', 'той', 'тя', 'то', 'тези', 'този', 'тази',\n",
    "    'това', 'тяхни', 'тяхната', 'тяхно', 'ваш', 'вашата', 'вашето', 'вашите',\n",
    "    'тяхните', 'си', 'ни', 'ми', 'ви', 'че', 'заради', 'поради', 'затова',\n",
    "    'понеже', 'без', 'срещу', 'от', 'до', 'при', 'против', 'над', 'под',\n",
    "    'докато', 'дори', 'въпреки', 'всеки', 'всекиго', 'всекяка', 'всекакви',\n",
    "    'когато', 'каквото', 'каквито', 'какъв', 'каква', 'какво', 'какви',\n",
    "    'докато', 'преди', 'след', 'колко', 'доста', 'едва', 'едва ли', 'единствено',\n",
    "    'освен', 'или', 'ли', 'не', 'дали', 'да', 'ли', 'защото', 'ако', 'понеже',\n",
    "    'въпреки че', 'благодарение на', 'за да', 'тъй като', 'дори ако', 'както',\n",
    "    'като че ли', 'за да не', 'и', 'дали', 'ли', 'откакто', 'по време',\n",
    "    'по време на', 'докато', 'след като', 'като', 'по време', 'по време на',\n",
    "    'от', 'до', 'от', 'до', 'във', 'в', 'на', 'с', 'се', 'по', 'сред',\n",
    "    'преди', 'след', 'около', 'из', 'от', 'под', 'над', 'при', 'против',\n",
    "    'например', 'нали', 'в', 'във', 'на', 'върху', 'всеки', 'всекиго', 'всекяка',\n",
    "    'всекакви', 'каквото', 'каквито', 'какъв', 'каква', 'какво', 'какви',\n",
    "    'което', 'които', 'който', 'чиято', 'чието', 'чийто', 'каква да', 'какво да',\n",
    "    'какви да', 'от', 'до', 'без', 'с', 'по', 'при', 'за', 'до',\n",
    "    'или', 'освен', 'близо', 'напротив', 'за сметка на', 'срещу', 'заради',\n",
    "    'въпреки', 'противно на', 'вместо', 'без', 'само', 'единствено', 'било',\n",
    "    'дали', 'дали не', 'дали да', 'ли', 'пак', 'отново', 'засега', 'вече',\n",
    "    'отделно', 'къде', 'как', 'кога', 'колко', 'кои', 'кои да е', 'оттам',\n",
    "    'там', 'тогава', 'някак', 'няколко', 'някой', 'някъде', 'няма', 'нямам',\n",
    "    'няма значение', 'никак', 'никой', 'никъде', 'никога', 'да', 'не', 'не',\n",
    "    'бих', 'нямам', 'не', 'нищо', 'нито', 'никой', 'дори', 'ако', 'да',\n",
    "    'случайно', 'докато', 'през', 'за', 'за да', 'като', 'че', 'щото',\n",
    "    'поради', 'понеже', 'тъй като', 'защото', 'това', 'така', 'така че',\n",
    "    'затова', 'оттогава', 'само', 'единствено', 'освен', 'въпреки', 'вместо', 'вместо',\n",
    "    'заради', 'вследствие на', 'поради', 'за', 'въпреки', 'противно на', 'например',\n",
    "    'нали', 'в', 'във', 'на', 'върху', 'с', 'през', 'по', 'около',\n",
    "    'върху', 'с', 'пред', 'заради', 'от', 'в', 'във', 'на', 'от', 'върху',\n",
    "    'при', 'през', 'сред', 'с', 'както', 'като', 'колкото', 'например', 'то',\n",
    "    'да', 'например', 'напр.', 'пр.', 'като', 'колкото', 'за', 'за да',\n",
    "    'заради', 'заради това', 'поради', 'понеже', 'от', 'до', 'само', 'единствено',\n",
    "    'освен', 'въпреки', 'вместо', 'без', 'близо до', 'пред', 'върху', 'над',\n",
    "    'под', 'из', 'от', 'за', 'против', 'срещу', 'заради', 'поради', 'в',\n",
    "    'за', 'на', 'във', 'при', 'пред', 'през', 'под', 'над', 'например',\n",
    "    'като', 'за', 'от', 'до', 'преди', 'след', 'за', 'при', 'заради',\n",
    "    'заради това', 'понеже', 'докато', 'ако', 'да', 'за да', 'тъй като', 'както',\n",
    "    'по-късно', 'преди', 'е'\n",
    "]"
   ]
  },
  {
   "cell_type": "code",
   "execution_count": 37,
   "id": "f5ac1e09-2085-46d2-a798-581c15cd5ec4",
   "metadata": {},
   "outputs": [],
   "source": [
    "feedback = pd.read_csv(\"data/feedback.csv\")"
   ]
  },
  {
   "cell_type": "code",
   "execution_count": 38,
   "id": "21ee7dc0-7d63-4e2b-a878-74407c6879a3",
   "metadata": {},
   "outputs": [],
   "source": [
    "feedback.Feedback = feedback.Feedback.replace(\"/\", \",\")\n",
    "feedback.Feedback = feedback.Feedback.astype(str)"
   ]
  },
  {
   "cell_type": "code",
   "execution_count": 39,
   "id": "32a56e27-29bb-42c5-999a-082998fbf5e6",
   "metadata": {},
   "outputs": [],
   "source": [
    "feedback_text = ' '.join(feedback['Feedback']).replace(\"/\", \"\")\n",
    "\n",
    "words = word_tokenize(feedback_text)\n",
    "filtered_words = [word.lower() for word in words if word.lower() not in stop_words and word.isalpha()]\n",
    "word_counts = Counter(filtered_words)\n",
    "\n",
    "most_common_words = dict(word_counts.items())"
   ]
  },
  {
   "cell_type": "code",
   "execution_count": 40,
   "id": "13b1adf6-3876-484d-87dd-28dea6704b97",
   "metadata": {},
   "outputs": [],
   "source": [
    "sorted_dict = dict(sorted(most_common_words.items(), key=lambda item: item[1], reverse=True))"
   ]
  },
  {
   "cell_type": "code",
   "execution_count": 41,
   "id": "b2e54105-45d9-49ab-aa07-671ec131dbbd",
   "metadata": {},
   "outputs": [],
   "source": [
    "# preprocessed_sentences = [' '.join([word for word in sentence.lower().split() if word not in stop_words]) for sentence in feedback['Feedback']]\n",
    "\n",
    "# vectorizer = TfidfVectorizer()\n",
    "# tfidf_matrix = vectorizer.fit_transform(preprocessed_sentences)\n",
    "\n",
    "# cosine_similarities = cosine_similarity(tfidf_matrix, tfidf_matrix)\n",
    "\n",
    "# threshold = 0.3\n",
    "\n",
    "# similar_sentences = {}\n",
    "# for i, sentence in enumerate(feedback['Feedback']):\n",
    "#     similar = [feedback['Feedback'][j] for j, similarity in enumerate(cosine_similarities[i]) if similarity > threshold and i != j]\n",
    "#     if similar:\n",
    "#         similar_sentences[sentence] = similar\n",
    "\n",
    "# for sentence, similar in similar_sentences.items():\n",
    "#     print(f\"Sentence: {sentence}\\n\")\n",
    "#     print(\"-------------------------------------------------------------------------------------------------------\")\n",
    "#     print(f\"Similar sentences: {similar}\\n\")"
   ]
  },
  {
   "cell_type": "markdown",
   "id": "0d0a4c8f-afc9-4b33-94d0-049f7dd9713b",
   "metadata": {},
   "source": [
    "### Открития:\n",
    "#### Топ Негативни отзиви:\n",
    "\n",
    "1. Когато е минал часът за тръгване пътуването изчезва от приложението. Шофьорът (или пътникът) може да има нужда да пише в чата че закъснява, но не може да му се отговори по никакъв начин.\n",
    "\n",
    "2. След одобрение по кандидатствана обява, телефонния номер на шофьора спира да бъде видим. Има възможност за изпращане на съобщение в чата, но потренителите биха предпочели и двете страни да имат възможност за телефонна връзка.\n",
    "\n",
    "3. Масови оплаквания от проблеми с получаването на кода за активация и имейл за потвърждение.\n",
    "\n",
    "4. Масови оплаквания за невъзможността да се изтрие напълно акаунтът на потребителя.\n",
    "\n",
    "5. Потребителите биха желали да могат да видят дали някой иска да пътува без да са пуснали обява.\n",
    "\n",
    "6. Оплаквания от скоростта на приложението.\n",
    "\n",
    "7. Ще е добре ако не се показват обявите които са без свободни места.\n",
    "\n",
    "8. Не се получават „известия“ извън самото приложение. С други думи, потребителите биха очаквали да получават известия в статус бар-а на телефона, където се появяват всички известия от различни приложения. Доста е неудобно периодично да трябва да се влиза в апп-а, за да се проверява за такива.\n",
    "\n",
    "9. Потребителите очакват да могат да видя дали някой иска да пътува без да са пуснали обява.\n",
    "\n",
    "10. При забравяне на паролата не може да се промени, понеже в полето за промяна се изисква старата парола и не става през имейл. При забравяне на потребителското име след избиране на опцията забравена парола, само паролата се изпраща на пощата, а потребителите биха желали да могат да възстановят и потребителското си име.\n",
    "\n",
    "\n",
    "#### Препоръки:\n",
    "\n",
    "Повечето хора, които изпращат отзиви изглеждат объркани и не разбират как работи приложението. Имайки предвид това, силно се препоръчва улесняване на функционалностите и създаването на някакъв вид въведение за новите потребители.\n",
    "\n",
    "Видимо липсват често срещани позитивни коментари. При това положение би било добре потребителите да бъдат насърчени да оставят повече положителни отзиви, които да повлияят на рейтинга на приложението позитивно (следват някои идеи):\n",
    "\n",
    "- Подкани в приложението: Внедряване на подкани или изскачащи прозорци в приложението, които любезно молят потребителите да оценят и прегледат приложението ви. Можем да определим времето на тези подкани стратегически, като например след успешно изпълнение на задача или когато потребителите са били активно ангажирани с вашето приложение за определен период от време.\n",
    "\n",
    "- Стимули или награди: Предлагане на малки стимули или награди на потребители, които оставят положителни коментари или отзиви. Това може да включва изключителни функции на приложението, отстъпки или виртуална валута в приложението. Важно е да се уверим, че сме съобщили ясно тези награди и как потребителите могат да ги поискат.\n",
    "\n",
    "- Персонализирани заявки: Изпращайне на персонализирани съобщения или известия до активни и лоялни потребители, изразяващи признателност за тяхната подкрепа и любезно приканване да споделят своите положителни преживявания, като оставят отзив или коментар. Персонализираните заявки могат да накарат потребителите да се чувстват ценени и по-склонни да дадат своя принос.\n",
    "\n",
    "- Ангажираност в социалните медии: Популяризиране на препоръките на потребителите и положителните коментари във вашите канали в социалните медии. Маркиране и споделяне на положителни отзиви от потребителите, създавайки усещане за общност и насърчавайки другите също да споделят своя опит.\n",
    "\n",
    "- Опростяване на процеса на обратна връзка: Улесняване на потребителите да предоставят обратна връзка в рамките на приложението, като включим забележим и удобен за потребителя формуляр за обратна връзка. Опростяване на процеса, като се задават конкретни въпроси или предоставяме предварително дефинирани опции, гарантирайки, че потребителите могат бързо и без усилие да оставят своите коментари.\n",
    "\n",
    "- Отговаряне и ангажиране: Активно ангажиране с потребители, които оставят положителни коментари или отзиви, като се отговаря на техните отзиви. Благодарност за тяхната подкрепа, отговори на всичките им въпроси или притеснения и посочване, че техните мнения имат значение. Това ниво на ангажираност може да насърчи положителна връзка и да насърчи повече потребители да споделят своя опит.\n",
    "\n",
    "<br>\n",
    "\n",
    "## Анализ на Финансови Данни\n",
    "\n",
    "В следващата секция реално няма да анализираме финансовите данни. Поради огромният брой различни наблюдения и сравнително ниският брой записи (приблизително само 5 месеца) този анализ ще бъде старателно прегледан в бъдещето, след като потребителската база е разширена. Тогава ще се изберат необходимите фактори, които искаме да проучим с цел по-добро опознаване на потребителската база.\n",
    "\n",
    "- Това, което ще направим сега, е едно предвиждане с помощта на Линейна Регресия, което има за цел да покаже какъв би бил дневният приход при положение, че нищо не се промени в приложението."
   ]
  },
  {
   "cell_type": "code",
   "execution_count": 42,
   "id": "c548b90e-d1eb-4627-9880-bf6280aa51fb",
   "metadata": {},
   "outputs": [],
   "source": [
    "data = pd.read_csv(\"data/new_and_renewal_revenue.csv\")"
   ]
  },
  {
   "cell_type": "code",
   "execution_count": 43,
   "id": "f7011cdb-fcbb-4ffd-882a-6035d84c4fe9",
   "metadata": {},
   "outputs": [
    {
     "data": {
      "text/html": [
       "<div>\n",
       "<style scoped>\n",
       "    .dataframe tbody tr th:only-of-type {\n",
       "        vertical-align: middle;\n",
       "    }\n",
       "\n",
       "    .dataframe tbody tr th {\n",
       "        vertical-align: top;\n",
       "    }\n",
       "\n",
       "    .dataframe thead th {\n",
       "        text-align: right;\n",
       "    }\n",
       "</style>\n",
       "<table border=\"1\" class=\"dataframe\">\n",
       "  <thead>\n",
       "    <tr style=\"text-align: right;\">\n",
       "      <th></th>\n",
       "      <th>Report Date</th>\n",
       "      <th>New Revenue</th>\n",
       "      <th>Renewal Revenue</th>\n",
       "      <th>Total Revenue</th>\n",
       "      <th>Store Commission / Fee</th>\n",
       "      <th>Estimated Taxes</th>\n",
       "      <th>Proceeds</th>\n",
       "    </tr>\n",
       "  </thead>\n",
       "  <tbody>\n",
       "    <tr>\n",
       "      <th>125</th>\n",
       "      <td>2023-06-05</td>\n",
       "      <td>13.69</td>\n",
       "      <td>10.39</td>\n",
       "      <td>24.08</td>\n",
       "      <td>3.60</td>\n",
       "      <td>3.36</td>\n",
       "      <td>17.07</td>\n",
       "    </tr>\n",
       "    <tr>\n",
       "      <th>126</th>\n",
       "      <td>2023-06-06</td>\n",
       "      <td>3.28</td>\n",
       "      <td>27.98</td>\n",
       "      <td>31.26</td>\n",
       "      <td>4.49</td>\n",
       "      <td>4.62</td>\n",
       "      <td>22.11</td>\n",
       "    </tr>\n",
       "    <tr>\n",
       "      <th>127</th>\n",
       "      <td>2023-06-07</td>\n",
       "      <td>15.85</td>\n",
       "      <td>32.78</td>\n",
       "      <td>48.63</td>\n",
       "      <td>7.06</td>\n",
       "      <td>7.11</td>\n",
       "      <td>34.43</td>\n",
       "    </tr>\n",
       "    <tr>\n",
       "      <th>128</th>\n",
       "      <td>2023-06-08</td>\n",
       "      <td>3.28</td>\n",
       "      <td>10.39</td>\n",
       "      <td>13.67</td>\n",
       "      <td>1.97</td>\n",
       "      <td>2.00</td>\n",
       "      <td>9.67</td>\n",
       "    </tr>\n",
       "    <tr>\n",
       "      <th>129</th>\n",
       "      <td>2023-06-09</td>\n",
       "      <td>3.85</td>\n",
       "      <td>29.15</td>\n",
       "      <td>33.00</td>\n",
       "      <td>4.59</td>\n",
       "      <td>5.03</td>\n",
       "      <td>23.40</td>\n",
       "    </tr>\n",
       "  </tbody>\n",
       "</table>\n",
       "</div>"
      ],
      "text/plain": [
       "    Report Date  New Revenue  Renewal Revenue  Total Revenue  \\\n",
       "125  2023-06-05        13.69            10.39          24.08   \n",
       "126  2023-06-06         3.28            27.98          31.26   \n",
       "127  2023-06-07        15.85            32.78          48.63   \n",
       "128  2023-06-08         3.28            10.39          13.67   \n",
       "129  2023-06-09         3.85            29.15          33.00   \n",
       "\n",
       "     Store Commission / Fee  Estimated Taxes  Proceeds  \n",
       "125                    3.60             3.36     17.07  \n",
       "126                    4.49             4.62     22.11  \n",
       "127                    7.06             7.11     34.43  \n",
       "128                    1.97             2.00      9.67  \n",
       "129                    4.59             5.03     23.40  "
      ]
     },
     "execution_count": 43,
     "metadata": {},
     "output_type": "execute_result"
    }
   ],
   "source": [
    "data.tail()"
   ]
  },
  {
   "cell_type": "code",
   "execution_count": 44,
   "id": "4877b9d7-47bc-4b7f-bba1-3ac1ac198397",
   "metadata": {},
   "outputs": [],
   "source": [
    "# Convert 'Report Date' column to datetime type\n",
    "data['Report Date'] = pd.to_datetime(data['Report Date'])\n",
    "\n",
    "# Date-based features\n",
    "data['DayOfWeek'] = data['Report Date'].dt.dayofweek\n",
    "data['Month'] = data['Report Date'].dt.month\n",
    "data['Quarter'] = data['Report Date'].dt.quarter\n",
    "data['Year'] = data['Report Date'].dt.year"
   ]
  },
  {
   "cell_type": "code",
   "execution_count": 45,
   "id": "5a8ecc3c-d44b-4fc5-8efa-c5397006cabb",
   "metadata": {},
   "outputs": [],
   "source": [
    "# Rolling statistics\n",
    "data['New Revenue Rolling Mean'] = data['New Revenue'].rolling(window=3, min_periods=1).mean()\n",
    "data['New Revenue Rolling Sum'] = data['New Revenue'].rolling(window=7, min_periods=1).sum()"
   ]
  },
  {
   "cell_type": "code",
   "execution_count": 46,
   "id": "e3f6fdc3-14d1-415d-a840-779aff3a5c36",
   "metadata": {},
   "outputs": [],
   "source": [
    "# Ratios or percentages\n",
    "data['Renewal Revenue Ratio'] = data['Renewal Revenue'] / data['Total Revenue']"
   ]
  },
  {
   "cell_type": "code",
   "execution_count": 47,
   "id": "22376230-7122-4caf-a105-f4e454871d02",
   "metadata": {},
   "outputs": [],
   "source": [
    "# Difference or change features\n",
    "data['New Revenue Diff'] = data['New Revenue'].diff()\n",
    "data['New Revenue Percent Change'] = data['New Revenue'].pct_change()"
   ]
  },
  {
   "cell_type": "code",
   "execution_count": 48,
   "id": "28af34ca-7014-401c-841c-eec9bef8ba1b",
   "metadata": {},
   "outputs": [],
   "source": [
    "# Lagged features\n",
    "data['Lagged New Revenue'] = data['New Revenue'].shift(1)"
   ]
  },
  {
   "cell_type": "code",
   "execution_count": 49,
   "id": "4c98f882-debd-4bd1-9c03-8e63447e204b",
   "metadata": {},
   "outputs": [],
   "source": [
    "# Interaction features\n",
    "data['New Revenue Commission Interaction'] = data['New Revenue'] * data['Store Commission / Fee']\n",
    "\n",
    "# Moving averages\n",
    "data['New Revenue Moving Average'] = data['New Revenue'].rolling(window = 30).mean()"
   ]
  },
  {
   "cell_type": "code",
   "execution_count": 50,
   "id": "92dd8cd4-45e6-4151-a2a6-21da0f853381",
   "metadata": {},
   "outputs": [],
   "source": [
    "data = data.fillna(data.mean())"
   ]
  },
  {
   "cell_type": "code",
   "execution_count": 51,
   "id": "2be3e10f-9634-45a7-aa83-188c539922ae",
   "metadata": {},
   "outputs": [],
   "source": [
    "# Replace 'inf' values with NaN\n",
    "data = data.replace([np.inf, -np.inf], np.nan)\n",
    "\n",
    "# Replace NaN values with column mean\n",
    "data = data.fillna(data.mean())"
   ]
  },
  {
   "cell_type": "code",
   "execution_count": 52,
   "id": "30b6e732-7945-47ae-b5d7-d7da1b350391",
   "metadata": {},
   "outputs": [
    {
     "name": "stdout",
     "output_type": "stream",
     "text": [
      "Mean Squared Error: 0.0006950917602096972\n",
      "R-squared Score: 0.9999922338280879\n"
     ]
    }
   ],
   "source": [
    "X = data.drop(columns = ['Proceeds', 'Report Date'])\n",
    "y = data['Proceeds']\n",
    "\n",
    "X_train, X_test, y_train, y_test = train_test_split(X, y, test_size = 0.1, random_state = 42)\n",
    "\n",
    "scaler = StandardScaler()\n",
    "X_train_scaled = scaler.fit_transform(X_train)\n",
    "X_test_scaled = scaler.transform(X_test)\n",
    "\n",
    "# Create an instance of the GradientBoostingRegressor\n",
    "model =  LinearRegression()\n",
    "\n",
    "# Fit the booster to the training data\n",
    "model.fit(X_train_scaled, y_train)\n",
    "\n",
    "# Make predictions on the test data\n",
    "y_pred = model.predict(X_test_scaled)\n",
    "\n",
    "# Calculate the mean squared error\n",
    "mse = mean_squared_error(y_test, y_pred)\n",
    "r2 = r2_score(y_test, y_pred)\n",
    "print(\"Mean Squared Error:\", mse)\n",
    "print('R-squared Score:', r2)"
   ]
  },
  {
   "cell_type": "code",
   "execution_count": 53,
   "id": "264c63fb-da34-4e86-96e4-48ad771eda37",
   "metadata": {},
   "outputs": [
    {
     "name": "stdout",
     "output_type": "stream",
     "text": [
      "Cross-Validation Mean MSE: 1.2171012431172203\n",
      "Cross-Validation Standard Deviation MSE: 3.6484230318854096\n"
     ]
    }
   ],
   "source": [
    "scores = cross_val_score(model, X, y, cv=10, scoring='neg_mean_squared_error')\n",
    "\n",
    "positive_scores = -scores\n",
    "\n",
    "print(\"Cross-Validation Mean MSE:\", positive_scores.mean())\n",
    "print(\"Cross-Validation Standard Deviation MSE:\", positive_scores.std())"
   ]
  },
  {
   "cell_type": "code",
   "execution_count": 54,
   "id": "cf52002a-c672-4e22-a4e8-f7dc2861bb89",
   "metadata": {},
   "outputs": [
    {
     "name": "stdout",
     "output_type": "stream",
     "text": [
      "RUNNING THE L-BFGS-B CODE\n",
      "\n",
      "           * * *\n",
      "\n",
      "Machine precision = 2.220D-16\n",
      " N =            4     M =           10\n",
      "\n",
      "At X0         0 variables are exactly at the bounds\n",
      "\n",
      "At iterate    0    f=  4.25605D+00    |proj g|=  2.03368D-01\n",
      "\n",
      "At iterate    5    f=  4.17249D+00    |proj g|=  1.36798D-02\n",
      "\n",
      "At iterate   10    f=  4.13281D+00    |proj g|=  6.23518D-03\n",
      "\n",
      "At iterate   15    f=  4.12765D+00    |proj g|=  4.45513D-03\n",
      "\n",
      "At iterate   20    f=  4.12288D+00    |proj g|=  4.13415D-04\n",
      "\n",
      "At iterate   25    f=  4.12207D+00    |proj g|=  5.93033D-04\n",
      "\n",
      "           * * *\n",
      "\n",
      "Tit   = total number of iterations\n",
      "Tnf   = total number of function evaluations\n",
      "Tnint = total number of segments explored during Cauchy searches\n",
      "Skip  = number of BFGS updates skipped\n",
      "Nact  = number of active bounds at final generalized Cauchy point\n",
      "Projg = norm of the final projected gradient\n",
      "F     = final function value\n",
      "\n",
      "           * * *\n",
      "\n",
      "   N    Tit     Tnf  Tnint  Skip  Nact     Projg        F\n",
      "    4     27     34      1     0     0   7.807D-06   4.122D+00\n",
      "  F =   4.1220555208639382     \n",
      "\n",
      "CONVERGENCE: NORM_OF_PROJECTED_GRADIENT_<=_PGTOL            \n"
     ]
    },
    {
     "name": "stderr",
     "output_type": "stream",
     "text": [
      " This problem is unconstrained.\n"
     ]
    }
   ],
   "source": [
    "from statsmodels.tsa.statespace.sarimax import SARIMAX\n",
    "\n",
    "# Extract the 'Proceeds' column\n",
    "proceeds = data['Proceeds']\n",
    "\n",
    "train_data = proceeds[:-6]\n",
    "test_data = proceeds[-6:]\n",
    "\n",
    "model = SARIMAX(train_data, order = (1, 0, 1), seasonal_order = (0, 1, 1, 7), )\n",
    "model_fit = model.fit()\n",
    "\n",
    "forecast = model_fit.forecast(steps = 6)\n",
    "\n",
    "predictions = pd.DataFrame(forecast.values)"
   ]
  },
  {
   "cell_type": "code",
   "execution_count": 55,
   "id": "cb3aba85-292a-4163-9ab3-b143184578be",
   "metadata": {},
   "outputs": [
    {
     "data": {
      "text/html": [
       "<div>\n",
       "<style scoped>\n",
       "    .dataframe tbody tr th:only-of-type {\n",
       "        vertical-align: middle;\n",
       "    }\n",
       "\n",
       "    .dataframe tbody tr th {\n",
       "        vertical-align: top;\n",
       "    }\n",
       "\n",
       "    .dataframe thead th {\n",
       "        text-align: right;\n",
       "    }\n",
       "</style>\n",
       "<table border=\"1\" class=\"dataframe\">\n",
       "  <thead>\n",
       "    <tr style=\"text-align: right;\">\n",
       "      <th></th>\n",
       "      <th>0</th>\n",
       "    </tr>\n",
       "  </thead>\n",
       "  <tbody>\n",
       "    <tr>\n",
       "      <th>0</th>\n",
       "      <td>16.140907</td>\n",
       "    </tr>\n",
       "    <tr>\n",
       "      <th>1</th>\n",
       "      <td>13.468723</td>\n",
       "    </tr>\n",
       "    <tr>\n",
       "      <th>2</th>\n",
       "      <td>14.151191</td>\n",
       "    </tr>\n",
       "    <tr>\n",
       "      <th>3</th>\n",
       "      <td>19.718994</td>\n",
       "    </tr>\n",
       "    <tr>\n",
       "      <th>4</th>\n",
       "      <td>15.963735</td>\n",
       "    </tr>\n",
       "    <tr>\n",
       "      <th>5</th>\n",
       "      <td>12.044829</td>\n",
       "    </tr>\n",
       "  </tbody>\n",
       "</table>\n",
       "</div>"
      ],
      "text/plain": [
       "           0\n",
       "0  16.140907\n",
       "1  13.468723\n",
       "2  14.151191\n",
       "3  19.718994\n",
       "4  15.963735\n",
       "5  12.044829"
      ]
     },
     "execution_count": 55,
     "metadata": {},
     "output_type": "execute_result"
    }
   ],
   "source": [
    "predictions"
   ]
  },
  {
   "cell_type": "markdown",
   "id": "d00ef634-7ca2-4ee4-8a7f-2e589b509e13",
   "metadata": {},
   "source": [
    "### Открития:\n",
    "\n",
    "- Може да видим, че дневният приход за следващите 6 месеца варира в рамките на 12-19 щатски долара. Ако пресметнем средното аритметично, очакваният приход за месец би бил около 465 щатски долара.\n",
    "\n",
    "- Това, което е повече от ясно и се потвърждава от този модел е, че без разширяване на потребителската база, приходите най-вероятно да продължат да намаляват значително. Имайки предвид, че от Януари до сега са паднали почти двойно, тази тенденция е възможно да продължи и занапред (може би не лятото, защото хората пътуват по-често, но след летният сезон със сигурност).\n",
    "\n",
    "#### За това финалната ми препоръка е да се вложат всички усилия и ресурси в:\n",
    "\n",
    "- Подобряване функционалността на приложението\n",
    "\n",
    "- Таргетирана реклама\n",
    "\n",
    "- Сериозно засилване на присъствието ни в социалните мрежи и публичните събития, които биха били подходящи\n",
    "  \n",
    "\n",
    "#### Наблягам на спешността на тези 3 теми, без които бъдещо развитие и потенциал за финансиране биха били немислими.\n",
    "\n",
    "<br>\n",
    "\n",
    "<br>\n",
    "\n",
    "Тихомир Тодоров\n",
    "\n",
    "13 Юни 2023"
   ]
  }
 ],
 "metadata": {
  "kernelspec": {
   "display_name": "Python 3 (ipykernel)",
   "language": "python",
   "name": "python3"
  },
  "language_info": {
   "codemirror_mode": {
    "name": "ipython",
    "version": 3
   },
   "file_extension": ".py",
   "mimetype": "text/x-python",
   "name": "python",
   "nbconvert_exporter": "python",
   "pygments_lexer": "ipython3",
   "version": "3.11.3"
  }
 },
 "nbformat": 4,
 "nbformat_minor": 5
}
